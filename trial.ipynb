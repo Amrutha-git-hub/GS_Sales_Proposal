{
 "cells": [
  {
   "cell_type": "code",
   "execution_count": 1,
   "metadata": {},
   "outputs": [
    {
     "data": {
      "text/plain": [
       "\"---\\n### ✅ Refined Client Requirements\\n\\n**Project Title:** Growth Acceleration Program for [Client Name]\\n\\n**Project Goal:** To achieve a minimum 10% year-over-year increase in sales revenue within the next 12 months.  This will be measured by comparing Q4 2024 revenue against Q4 2023 revenue.\\n\\n**Project Scope:** This project will encompass a comprehensive review of [Client Name]'s current Go-to-Market (GTM) strategy, including but not limited to: market analysis, competitive landscape assessment, sales process optimization, lead generation strategies, sales enablement, and marketing alignment.  Growth Sutra will leverage its expertise in GTM strategy development and implementation to deliver tailored solutions.\\n\\n**Deliverables:**\\n\\n* **Phase 1 (Months 1-3):**  GTM Strategy Audit & Roadmap Development –  Comprehensive assessment of existing GTM processes, identification of key areas for improvement, and development of a detailed roadmap with prioritized initiatives.  Deliverables include a detailed audit report, a prioritized roadmap, and a presentation of key findings and recommendations.\\n* **Phase 2 (Months 4-9):**  Implementation & Optimization – Execution of the prioritized initiatives outlined in the roadmap, including sales training, marketing campaign development and execution, and sales process optimization. Regular progress reports and stakeholder meetings will be held.\\n* **Phase 3 (Months 10-12):**  Performance Measurement & Refinement – Analysis of results against the defined goals, identification of areas for further optimization, and final report summarizing achievements and recommendations for sustained growth.\\n\\n**Timeline:** 12 months\\n\\n**Measurable Outcomes:**  A minimum 10% increase in year-over-year sales revenue (Q4 2024 vs. Q4 2023), demonstrable improvements in key sales metrics (e.g., conversion rates, average deal size, sales cycle length), and enhanced sales team performance.\\n\\n**Success Criteria:**  Successful completion of all phases as outlined above, achieving the targeted 10% sales increase, and demonstrable improvements in key sales metrics.\\n\\n\\n---\\n\\n### 💡 Innovative Suggestions\\n\\n- **Predictive Analytics & Sales Forecasting:** Integrate predictive analytics to forecast future sales performance based on historical data, market trends, and planned initiatives. This will allow for proactive adjustments to the GTM strategy and more accurate resource allocation, maximizing ROI.  Rationale:  Data-driven decision-making leads to improved accuracy and efficiency.\\n\\n- **Account-Based Marketing (ABM) Implementation:** Implement an ABM strategy targeting high-value accounts. This highly personalized approach will focus resources on key prospects, increasing conversion rates and average deal size.  Rationale: ABM offers higher ROI than broad-based marketing efforts, particularly for B2B clients.\\n\\n\\n---\\n\\n### 📌 Best Practice Recommendations\\n\\n- **Missing Aspects:** The initial client requirement lacked crucial details such as scope, timeline, deliverables, and measurable outcomes.  These elements are essential for defining a clear project plan and ensuring successful execution.\\n\\n- **Formatting & Phrasing:** The refined requirements utilize a more professional and structured format, incorporating clear headings, bullet points, and quantifiable goals.  This enhances clarity and facilitates effective communication with the client.  We've also moved beyond simply stating a 10% increase and defined the measurement period (year-over-year, comparing Q4 to Q4) for clarity and accountability.  This is a best practice for avoiding ambiguity in project scope.\""
      ]
     },
     "execution_count": 1,
     "metadata": {},
     "output_type": "execute_result"
    }
   ],
   "source": [
    "from Recommendation.recommendation_utils import get_ai_client_requirements\n",
    "\n",
    "get_ai_client_requirements(\"Growth sutra is a LLP company knwon for GTM strategies\",\"lient want to increase his sales by 10%\")"
   ]
  },
  {
   "cell_type": "code",
   "execution_count": 1,
   "metadata": {},
   "outputs": [
    {
     "name": "stderr",
     "output_type": "stream",
     "text": [
      "/home/shreyank/anaconda3/envs/adk/lib/python3.13/site-packages/tqdm/auto.py:21: TqdmWarning: IProgress not found. Please update jupyter and ipywidgets. See https://ipywidgets.readthedocs.io/en/stable/user_install.html\n",
      "  from .autonotebook import tqdm as notebook_tqdm\n"
     ]
    },
    {
     "name": "stdout",
     "output_type": "stream",
     "text": [
      "[{'title': 'Sustainable Revenue Growth & Market Share Expansion', 'icon': '📈'}, {'title': 'Digital Transformation & Operational Excellence', 'icon': '⚙️'}, {'title': 'Talent Acquisition & Retention in a Competitive Market', 'icon': '🧑\\u200d💼'}]\n"
     ]
    }
   ],
   "source": [
    "from Recommendation.recommendation_utils import get_ai_business_priorities\n",
    "\n",
    "result = get_ai_business_priorities(\"CEO\")"
   ]
  },
  {
   "cell_type": "code",
   "execution_count": 2,
   "metadata": {},
   "outputs": [
    {
     "data": {
      "text/plain": [
       "list"
      ]
     },
     "execution_count": 2,
     "metadata": {},
     "output_type": "execute_result"
    }
   ],
   "source": [
    "type(result)"
   ]
  },
  {
   "cell_type": "code",
   "execution_count": null,
   "metadata": {},
   "outputs": [],
   "source": []
  },
  {
   "cell_type": "code",
   "execution_count": null,
   "metadata": {},
   "outputs": [],
   "source": [
    "from datetime import datetime\n",
    "datetime.strftime()"
   ]
  },
  {
   "cell_type": "code",
   "execution_count": 1,
   "metadata": {},
   "outputs": [
    {
     "name": "stdout",
     "output_type": "stream",
     "text": [
      "```python\n",
      "effort_data = {\n",
      "    \"Business Analysis\": \"**Business Analysis (120-160 hours)** • Requirements gathering and documentation\\n• Process mapping and workflow analysis\\n• Stakeholder management and communication\\n• User story creation and prioritization\\n\",\n",
      "    \"Technical Development\": \"**Technical Development (400-600 hours)** • Frontend and backend development\\n• Database design and implementation\\n• API development and integration\\n• Third-party library integration\\n\",\n",
      "    \"Testing & QA\": \"**Testing & QA (80-120 hours)** • Test planning and test case creation\\n• Manual and automated testing execution\\n• Bug fixing and regression testing\\n• Performance and security testing\\n\",\n",
      "    \"Deployment & Support\": \"**Deployment & Support (40-80 hours)** • Deployment planning and execution\\n• User training and documentation\\n• Post-launch support and maintenance\\n• System monitoring and performance tuning\\n\"\n",
      "}\n",
      "```\n",
      "<class 'dict'>\n",
      "{'Business Analysis': '**Business Analysis (120-160 hours)** • Requirements gathering and documentation\\n• Process mapping and workflow analysis\\n• Stakeholder management and communication\\n• User story creation and prioritization\\n', 'Technical Development': '**Technical Development (400-600 hours)** • Frontend and backend development\\n• Database design and implementation\\n• API development and integration\\n• Third-party library integration\\n', 'Testing & QA': '**Testing & QA (80-120 hours)** • Test planning and test case creation\\n• Manual and automated testing execution\\n• Bug fixing and regression testing\\n• Performance and security testing\\n', 'Deployment & Support': '**Deployment & Support (40-80 hours)** • Deployment planning and execution\\n• User training and documentation\\n• Post-launch support and maintenance\\n• System monitoring and performance tuning\\n'}\n"
     ]
    }
   ],
   "source": [
    "from Recommendation.recommendation_utils import get_ai_proj_sepc_recommendations\n",
    "\n",
    "from Recommendation.prompts import *\n",
    "result = get_ai_proj_sepc_recommendations(effort_prompt,\"Nothing\",\"nothing\")"
   ]
  },
  {
   "cell_type": "code",
   "execution_count": 1,
   "metadata": {},
   "outputs": [
    {
     "name": "stderr",
     "output_type": "stream",
     "text": [
      "/home/shreyank/anaconda3/envs/adk/lib/python3.13/site-packages/tqdm/auto.py:21: TqdmWarning: IProgress not found. Please update jupyter and ipywidgets. See https://ipywidgets.readthedocs.io/en/stable/user_install.html\n",
      "  from .autonotebook import tqdm as notebook_tqdm\n"
     ]
    }
   ],
   "source": [
    "from PresentationWriting.src.main import get_presentation\n",
    "from Client.client_dataclass import ClientData\n",
    "from Seller.seller import SellerTabState\n",
    "\n",
    "client = ClientData(enterprise_logo=\"https://static.wixstatic.com/media/cb6b3d_5c8f2b020ebe48b69bc8c163cc480156~mv2.png/v1/fill/w_60,h_60,al_c,q_85,usm_0.66_1.00_0.01,enc_avif,quality_auto/GrowthSutra%20Logo.png\")\n",
    "seller = SellerTabState(enterprise_logo='https://benori.com/assets/web/images/Benori_Logo.svg')\n",
    "# state = get_presentation(client,seller,[])\n",
    "# from PresentationWriting.src.pres import *\n",
    "# from PresentationWriting.src.utils import *\n",
    "# colors = get_color_from_image(client.enterprise_logo) \n",
    "# generate_modern_presentation(filename  = 'output.txt',logo_url=client.enterprise_logo,logo_url_2 = seller.enterprise_logo ,output_format='pdf')\n"
   ]
  },
  {
   "cell_type": "code",
   "execution_count": null,
   "metadata": {},
   "outputs": [
    {
     "name": "stdout",
     "output_type": "stream",
     "text": [
      "📋 Found main title for cover: title of the sales proposal\n",
      "📄 Added section: title of the sales proposal\n",
      "📄 Added section: Executive Summary\n",
      "📄 Added section: Understanding Your Needs\n",
      "📄 Added section: Proposed Solution\n",
      "📄 Added section: Scope of Work / Project Breakdown\n",
      "📄 Added section: Deliverables\n",
      "📄 Added section: Timeline\n",
      "📄 Added section: Investment / Pricing\n",
      "📄 Added section: Our Team / About Us\n",
      "📄 Added section: Case Studies / Success Stories\n",
      "📄 Added section: Terms and Conditions\n",
      "📄 Added final section: Call to Action\n",
      "✅ Parsed 12 sections with main title: 'title of the sales proposal'\n",
      "✅ Generated HTML proposal: output_proposal.html\n"
     ]
    }
   ],
   "source": [
    "from PresentationWriting.src.pres import *\n",
    "from PresentationWriting.src.utils import *\n",
    "colors = get_color_from_image(client.enterprise_logo) \n",
    "generate_modern_presentation(filename  = 'output.txt',logo_url=client.enterprise_logo,logo_url_2 = seller.enterprise_logo ,output_format='pdf')"
   ]
  },
  {
   "cell_type": "code",
   "execution_count": 1,
   "metadata": {},
   "outputs": [
    {
     "name": "stdout",
     "output_type": "stream",
     "text": [
      "✓ Image saved: text_image.png\n"
     ]
    }
   ],
   "source": [
    "from PIL import Image, ImageDraw, ImageFont\n",
    "\n",
    "def create_text_image(text, filename=\"text_image.png\"):\n",
    "    \"\"\"\n",
    "    Create a clean, professional image with black text on white background\n",
    "    \"\"\"\n",
    "    \n",
    "    # Try to get a professional font\n",
    "    try:\n",
    "        # Try professional fonts first\n",
    "        font = ImageFont.truetype(\"arial.ttf\", 32)\n",
    "    except:\n",
    "        try:\n",
    "            font = ImageFont.truetype(\"Arial.ttf\", 32)  # Windows\n",
    "        except:\n",
    "            try:\n",
    "                font = ImageFont.truetype(\"Helvetica.ttc\", 32)  # Mac\n",
    "            except:\n",
    "                try:\n",
    "                    font = ImageFont.truetype(\"DejaVuSans-Bold.ttf\", 32)  # Linux\n",
    "                except:\n",
    "                    font = ImageFont.load_default()\n",
    "    \n",
    "    # Create temporary image to measure text\n",
    "    temp_img = Image.new('RGB', (1, 1), 'white')\n",
    "    temp_draw = ImageDraw.Draw(temp_img)\n",
    "    \n",
    "    # Get text dimensions\n",
    "    bbox = temp_draw.textbbox((0, 0), text, font=font)\n",
    "    text_width = bbox[2] - bbox[0]\n",
    "    text_height = bbox[3] - bbox[1]\n",
    "    \n",
    "    # Create final image with some padding\n",
    "    padding = 50\n",
    "    img_width = text_width + (padding * 2)\n",
    "    img_height = text_height + (padding * 2)\n",
    "    \n",
    "    # Create clean white background\n",
    "    img = Image.new('RGB', (img_width, img_height), 'white')\n",
    "    draw = ImageDraw.Draw(img)\n",
    "    \n",
    "    # Draw text in strong black, centered\n",
    "    x = padding\n",
    "    y = padding\n",
    "    draw.text((x, y), text, font=font, fill='black')\n",
    "    \n",
    "    # Save image\n",
    "    img.save(filename, 'PNG', quality=100)\n",
    "    print(f\"✓ Image saved: {filename}\")\n",
    "\n",
    "\n",
    "create_text_image(\"benori\")"
   ]
  },
  {
   "cell_type": "code",
   "execution_count": 6,
   "metadata": {},
   "outputs": [
    {
     "data": {
      "text/plain": [
       "dict_keys(['a', 'b'])"
      ]
     },
     "execution_count": 6,
     "metadata": {},
     "output_type": "execute_result"
    }
   ],
   "source": [
    "l.keys()"
   ]
  },
  {
   "cell_type": "code",
   "execution_count": null,
   "metadata": {},
   "outputs": [],
   "source": []
  }
 ],
 "metadata": {
  "kernelspec": {
   "display_name": "adk",
   "language": "python",
   "name": "python3"
  },
  "language_info": {
   "codemirror_mode": {
    "name": "ipython",
    "version": 3
   },
   "file_extension": ".py",
   "mimetype": "text/x-python",
   "name": "python",
   "nbconvert_exporter": "python",
   "pygments_lexer": "ipython3",
   "version": "3.13.2"
  }
 },
 "nbformat": 4,
 "nbformat_minor": 2
}
